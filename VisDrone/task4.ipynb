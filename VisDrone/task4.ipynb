{
 "cells": [
  {
   "cell_type": "markdown",
   "metadata": {},
   "source": [
    "Task 4: multi-object tracking challenge. The task aims to recover the trajectories of objects in each video frame."
   ]
  },
  {
   "cell_type": "code",
   "execution_count": 1,
   "metadata": {},
   "outputs": [],
   "source": [
    "import numpy as np\n",
    "import matplotlib.pyplot as plt\n",
    "import imageio.v2 as io\n",
    "import cv2\n",
    "import torch\n",
    "import os\n",
    "import sys\n",
    "from utils.utils_funcitons import *\n",
    "device= \"cuda\" if torch.cuda.is_available() else \"cpu\"\n",
    "from ultralytics import YOLO"
   ]
  },
  {
   "cell_type": "code",
   "execution_count": 2,
   "metadata": {},
   "outputs": [],
   "source": [
    "dataset_path = r'.\\dataset\\Task4_Multi_Object_Tracking'\n",
    "sequences_folder = os.path.join(dataset_path, 'sequences')\n",
    "annotations_folder = os.path.join(dataset_path, 'annotations')\n",
    "model_path = r'.\\models\\best_yolov8n.pt'"
   ]
  },
  {
   "cell_type": "markdown",
   "metadata": {},
   "source": [
    "### YOLOv8 Multi-Object Tracker"
   ]
  },
  {
   "cell_type": "code",
   "execution_count": 11,
   "metadata": {},
   "outputs": [],
   "source": [
    "model = YOLO(model_path)\n",
    "objects = ['all']\n",
    "number_class_list = []\n",
    "\n",
    "if objects!=None:\n",
    "    if objects!=['all']:\n",
    "        for object in objects: \n",
    "            number_class_list.append(classes.index(object))\n",
    "    elif objects == ['all']:\n",
    "        number_class_list = list(range(len(classes)))\n",
    "\n",
    "# Images folder path\n",
    "img_folder = os.path.join(sequences_folder, 'uav0000117_02622_v')\n",
    "img_names = sorted(os.listdir(img_folder))\n",
    "\n",
    "# Video size\n",
    "width, height = 1280, 720\n",
    "\n",
    "# Codec and VideoWriter\n",
    "codec = cv2.VideoWriter_fourcc(*'XVID')\n",
    "fps = 20\n",
    "output_video = cv2.VideoWriter(r'.\\outputs\\Task4\\output_yolo.mp4', codec, fps, (width, height))\n",
    "\n",
    "# Frame processing\n",
    "for i, img in enumerate(img_names):\n",
    "    img_fullpath = os.path.join(img_folder, img)\n",
    "    frame = cv2.imread(img_fullpath)\n",
    "    #frame = cv2.cvtColor(frame, cv2.COLOR_BGR2RGB)\n",
    "    \n",
    "    if frame is not None:\n",
    "        # Redimensionar la imagen si es necesario\n",
    "        if width and height:\n",
    "            results = model.track(frame, persist=True, verbose=False, conf=0.3, iou=0.5, classes=number_class_list, imgsz=704, tracker=r'.\\botsort_custom.yaml')\n",
    "            annotated_frame = results[0].plot()               \n",
    "            annotated_frame = cv2.resize(annotated_frame, (width, height))\n",
    "            #output_video.write(cv2.cvtColor(annotated_frame, cv2.COLOR_RGB2BGR))\n",
    "            output_video.write(annotated_frame)\n",
    "\n",
    "# Liberar recursos\n",
    "output_video.release()\n",
    "cv2.destroyAllWindows()"
   ]
  }
 ],
 "metadata": {
  "kernelspec": {
   "display_name": "Python 3.10.0 ('proyectos')",
   "language": "python",
   "name": "python3"
  },
  "language_info": {
   "codemirror_mode": {
    "name": "ipython",
    "version": 3
   },
   "file_extension": ".py",
   "mimetype": "text/x-python",
   "name": "python",
   "nbconvert_exporter": "python",
   "pygments_lexer": "ipython3",
   "version": "3.10.0"
  },
  "orig_nbformat": 4,
  "vscode": {
   "interpreter": {
    "hash": "9046291224b9ae991683ef7a0ef8fd462791dccad48d624cd221e38879383f70"
   }
  }
 },
 "nbformat": 4,
 "nbformat_minor": 2
}
